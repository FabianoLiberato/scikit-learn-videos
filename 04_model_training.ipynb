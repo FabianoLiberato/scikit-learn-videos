{
  "nbformat": 4,
  "nbformat_minor": 0,
  "metadata": {
    "kernelspec": {
      "display_name": "Python 3",
      "language": "python",
      "name": "python3"
    },
    "language_info": {
      "codemirror_mode": {
        "name": "ipython",
        "version": 3
      },
      "file_extension": ".py",
      "mimetype": "text/x-python",
      "name": "python",
      "nbconvert_exporter": "python",
      "pygments_lexer": "ipython3",
      "version": "3.6.5"
    },
    "colab": {
      "name": "04_model_training.ipynb",
      "provenance": [],
      "toc_visible": true,
      "include_colab_link": true
    }
  },
  "cells": [
    {
      "cell_type": "markdown",
      "metadata": {
        "id": "view-in-github",
        "colab_type": "text"
      },
      "source": [
        "<a href=\"https://colab.research.google.com/github/FabianoLiberato/scikit-learn-videos/blob/master/04_model_training.ipynb\" target=\"_parent\"><img src=\"https://colab.research.google.com/assets/colab-badge.svg\" alt=\"Open In Colab\"/></a>"
      ]
    },
    {
      "cell_type": "markdown",
      "metadata": {
        "id": "7qaneqz5ZTI-"
      },
      "source": [
        "# Training a machine learning model with scikit-learn ([video #4](https://www.youtube.com/watch?v=RlQuVL6-qe8&list=PL5-da3qGB5ICeMbQuqbbCOQWcS6OYBr5A&index=4))\n",
        "\n",
        "Created by [Data School](http://www.dataschool.io/). Watch all 9 videos on [YouTube](https://www.youtube.com/playlist?list=PL5-da3qGB5ICeMbQuqbbCOQWcS6OYBr5A). Download the notebooks from [GitHub](https://github.com/justmarkham/scikit-learn-videos).\n",
        "\n",
        "**Note:** This notebook uses Python 3.6 and scikit-learn 0.19.1. The original notebook (shown in the video) used Python 2.7 and scikit-learn 0.16, and can be downloaded from the [archive branch](https://github.com/justmarkham/scikit-learn-videos/tree/archive)."
      ]
    },
    {
      "cell_type": "markdown",
      "metadata": {
        "id": "KDEk0JiFZTJA"
      },
      "source": [
        "## Agenda\n",
        "\n",
        "- What is the **K-nearest neighbors** classification model?\n",
        "- What are the four steps for **model training and prediction** in scikit-learn?\n",
        "- How can I apply this pattern to **other machine learning models**?"
      ]
    },
    {
      "cell_type": "markdown",
      "metadata": {
        "id": "8j5fTUAAZTJB"
      },
      "source": [
        "## Reviewing the iris dataset"
      ]
    },
    {
      "cell_type": "code",
      "metadata": {
        "id": "naS4aVujMu0D"
      },
      "source": [
        "# from IPython.display import IFrame\n",
        "# IFrame('http://archive.ics.uci.edu/ml/machine-learning-databases/iris/iris.data', width=300, height=200)"
      ],
      "execution_count": null,
      "outputs": []
    },
    {
      "cell_type": "code",
      "metadata": {
        "id": "LE05CwAyW5Yu",
        "outputId": "5285c353-ef40-4bfb-c996-df90aff0eb99",
        "colab": {
          "base_uri": "https://localhost:8080/"
        }
      },
      "source": [
        "import requests\n",
        "lst_lins_iris = requests.get('http://archive.ics.uci.edu/ml/machine-learning-databases/iris/iris.data').text.strip('\\n').split('\\n')\n",
        "print(f'qtd linhas = {len(lst_lins_iris)}\\n')\n",
        "print('\\n'.join(lst_lins_iris[:5] + ['...'] + lst_lins_iris[50:55] + ['...'] + lst_lins_iris[-5:]))"
      ],
      "execution_count": 1,
      "outputs": [
        {
          "output_type": "stream",
          "text": [
            "qtd linhas = 150\n",
            "\n",
            "5.1,3.5,1.4,0.2,Iris-setosa\n",
            "4.9,3.0,1.4,0.2,Iris-setosa\n",
            "4.7,3.2,1.3,0.2,Iris-setosa\n",
            "4.6,3.1,1.5,0.2,Iris-setosa\n",
            "5.0,3.6,1.4,0.2,Iris-setosa\n",
            "...\n",
            "7.0,3.2,4.7,1.4,Iris-versicolor\n",
            "6.4,3.2,4.5,1.5,Iris-versicolor\n",
            "6.9,3.1,4.9,1.5,Iris-versicolor\n",
            "5.5,2.3,4.0,1.3,Iris-versicolor\n",
            "6.5,2.8,4.6,1.5,Iris-versicolor\n",
            "...\n",
            "6.7,3.0,5.2,2.3,Iris-virginica\n",
            "6.3,2.5,5.0,1.9,Iris-virginica\n",
            "6.5,3.0,5.2,2.0,Iris-virginica\n",
            "6.2,3.4,5.4,2.3,Iris-virginica\n",
            "5.9,3.0,5.1,1.8,Iris-virginica\n"
          ],
          "name": "stdout"
        }
      ]
    },
    {
      "cell_type": "markdown",
      "metadata": {
        "id": "C-Ibq5KwZTJK"
      },
      "source": [
        "- 150 **observations**\n",
        "- 4 **features** (sepal length, sepal width, petal length, petal width)\n",
        "- **Response** variable is the iris species\n",
        "- **Classification** problem since response is categorical\n",
        "- More information in the [UCI Machine Learning Repository](http://archive.ics.uci.edu/ml/datasets/Iris)"
      ]
    },
    {
      "cell_type": "markdown",
      "metadata": {
        "id": "-lbWszSfZTJL"
      },
      "source": [
        "## K-nearest neighbors (KNN) classification"
      ]
    },
    {
      "cell_type": "markdown",
      "metadata": {
        "id": "B-OVFSJ5ZTJL"
      },
      "source": [
        "1. Pick a value for K.\n",
        "2. Search for the K observations in the training data that are \"nearest\" to the measurements of the unknown iris.\n",
        "3. Use the most popular response value from the K nearest neighbors as the predicted response value for the unknown iris."
      ]
    },
    {
      "cell_type": "markdown",
      "metadata": {
        "id": "cAOYgXiiZTJN"
      },
      "source": [
        "### Example training data\n",
        "\n",
        "![Training data](https://github.com/cristianopoeta/scikit-learn-videos/blob/master/images/04_knn_dataset.png?raw=1)"
      ]
    },
    {
      "cell_type": "markdown",
      "metadata": {
        "id": "TPpk_qksZTJO"
      },
      "source": [
        "### KNN classification map (K=1)\n",
        "\n",
        "![1NN classification map](https://github.com/cristianopoeta/scikit-learn-videos/blob/master/images/04_1nn_map.png?raw=1)"
      ]
    },
    {
      "cell_type": "markdown",
      "metadata": {
        "id": "fMvA8fZCZTJP"
      },
      "source": [
        "### KNN classification map (K=5)\n",
        "\n",
        "![5NN classification map](https://github.com/cristianopoeta/scikit-learn-videos/blob/master/images/04_5nn_map.png?raw=1)"
      ]
    },
    {
      "cell_type": "markdown",
      "metadata": {
        "id": "_gJFBxSFZTJQ"
      },
      "source": [
        "*Image Credits: [Data3classes](http://commons.wikimedia.org/wiki/File:Data3classes.png#/media/File:Data3classes.png), [Map1NN](http://commons.wikimedia.org/wiki/File:Map1NN.png#/media/File:Map1NN.png), [Map5NN](http://commons.wikimedia.org/wiki/File:Map5NN.png#/media/File:Map5NN.png) by Agor153. Licensed under CC BY-SA 3.0*"
      ]
    },
    {
      "cell_type": "markdown",
      "metadata": {
        "id": "ufyC-7WuZTJR"
      },
      "source": [
        "## Loading the data"
      ]
    },
    {
      "cell_type": "code",
      "metadata": {
        "id": "6d7ZMECnZTJS"
      },
      "source": [
        "# import load_iris function from datasets module\n",
        "from sklearn.datasets import load_iris\n",
        "\n",
        "# save \"bunch\" object containing iris dataset and its attributes\n",
        "iris = load_iris()\n",
        "\n",
        "# store feature matrix in \"X\"\n",
        "X = iris.data\n",
        "\n",
        "# store response vector in \"y\"\n",
        "y = iris.target"
      ],
      "execution_count": 2,
      "outputs": []
    },
    {
      "cell_type": "code",
      "metadata": {
        "id": "EhWS7vy2ZTJW",
        "outputId": "257068bf-5cc3-4245-abf9-8fbdc5f51a18",
        "colab": {
          "base_uri": "https://localhost:8080/"
        }
      },
      "source": [
        "# print the shapes of X and y\n",
        "print(X.shape)\n",
        "print(y.shape)"
      ],
      "execution_count": 3,
      "outputs": [
        {
          "output_type": "stream",
          "text": [
            "(150, 4)\n",
            "(150,)\n"
          ],
          "name": "stdout"
        }
      ]
    },
    {
      "cell_type": "code",
      "metadata": {
        "id": "816ZYfqgxl_T"
      },
      "source": [
        "import numpy as np"
      ],
      "execution_count": 10,
      "outputs": []
    },
    {
      "cell_type": "code",
      "metadata": {
        "id": "aVgQv-eQxqW8",
        "outputId": "77c56a3b-d5a9-4e7a-f261-16113718cb38",
        "colab": {
          "base_uri": "https://localhost:8080/"
        }
      },
      "source": [
        "iris.feature_names"
      ],
      "execution_count": 11,
      "outputs": [
        {
          "output_type": "execute_result",
          "data": {
            "text/plain": [
              "['sepal length (cm)',\n",
              " 'sepal width (cm)',\n",
              " 'petal length (cm)',\n",
              " 'petal width (cm)']"
            ]
          },
          "metadata": {
            "tags": []
          },
          "execution_count": 11
        }
      ]
    },
    {
      "cell_type": "code",
      "metadata": {
        "id": "VO_FgM5OxvPJ",
        "outputId": "f5f41fe3-69a3-47b4-a446-834c6a5ca9c7",
        "colab": {
          "base_uri": "https://localhost:8080/"
        }
      },
      "source": [
        "iris.target_names"
      ],
      "execution_count": 12,
      "outputs": [
        {
          "output_type": "execute_result",
          "data": {
            "text/plain": [
              "array(['setosa', 'versicolor', 'virginica'], dtype='<U10')"
            ]
          },
          "metadata": {
            "tags": []
          },
          "execution_count": 12
        }
      ]
    },
    {
      "cell_type": "markdown",
      "metadata": {
        "id": "GvHcadWrZTJe"
      },
      "source": [
        "## scikit-learn 4-step modeling pattern"
      ]
    },
    {
      "cell_type": "markdown",
      "metadata": {
        "id": "OC4LdOZcZTJf"
      },
      "source": [
        "**Step 1:** Import the class you plan to use"
      ]
    },
    {
      "cell_type": "code",
      "metadata": {
        "id": "L_nTIwo2ZTJg"
      },
      "source": [
        "from sklearn.neighbors import KNeighborsClassifier"
      ],
      "execution_count": 4,
      "outputs": []
    },
    {
      "cell_type": "markdown",
      "metadata": {
        "id": "gCEu5hCuZTJk"
      },
      "source": [
        "**Step 2:** \"Instantiate\" the \"estimator\"\n",
        "\n",
        "- \"Estimator\" is scikit-learn's term for model\n",
        "- \"Instantiate\" means \"make an instance of\""
      ]
    },
    {
      "cell_type": "code",
      "metadata": {
        "id": "paq7EmuxZTJl"
      },
      "source": [
        "knn = KNeighborsClassifier(n_neighbors=1)"
      ],
      "execution_count": 14,
      "outputs": []
    },
    {
      "cell_type": "code",
      "metadata": {
        "id": "XZrceO0I0Z1H"
      },
      "source": [
        "KNeighborsClassifier?"
      ],
      "execution_count": 15,
      "outputs": []
    },
    {
      "cell_type": "markdown",
      "metadata": {
        "id": "J5WSjc8cZTJr"
      },
      "source": [
        "- Name of the object does not matter\n",
        "- Can specify tuning parameters (aka \"hyperparameters\") during this step\n",
        "- All parameters not specified are set to their defaults"
      ]
    },
    {
      "cell_type": "code",
      "metadata": {
        "id": "XCR7xx4wZTJr",
        "outputId": "a9c953b6-3c2f-4b9b-8dfb-392a94971a27",
        "colab": {
          "base_uri": "https://localhost:8080/"
        }
      },
      "source": [
        "print(knn)"
      ],
      "execution_count": 8,
      "outputs": [
        {
          "output_type": "stream",
          "text": [
            "KNeighborsClassifier(algorithm='auto', leaf_size=30, metric='minkowski',\n",
            "                     metric_params=None, n_jobs=None, n_neighbors=1, p=2,\n",
            "                     weights='uniform')\n"
          ],
          "name": "stdout"
        }
      ]
    },
    {
      "cell_type": "code",
      "metadata": {
        "id": "Qn3xmDTma9-a",
        "outputId": "9259e863-0d18-44a9-b430-3af6bfb83e6f",
        "colab": {
          "base_uri": "https://localhost:8080/"
        }
      },
      "source": [
        "# cpt (cristiano poeta faria)\n",
        "#O Cristiano criou este código para verificar se há algum atributo  ou método do objeto que termina com\n",
        "# um underline, mas não dois.\n",
        "[nome for nome in dir(knn) if nome[-1]=='_' and nome [-2:]!='__']"
      ],
      "execution_count": 9,
      "outputs": [
        {
          "output_type": "execute_result",
          "data": {
            "text/plain": [
              "[]"
            ]
          },
          "metadata": {
            "tags": []
          },
          "execution_count": 9
        }
      ]
    },
    {
      "cell_type": "code",
      "metadata": {
        "id": "YgM2Jnn61BWg",
        "outputId": "853b70e3-708e-4597-959f-b6291f1739a0",
        "colab": {
          "base_uri": "https://localhost:8080/"
        }
      },
      "source": [
        "# fclc\n",
        "[nome for nome in dir(knn) if nome [-2:]!='__']"
      ],
      "execution_count": 17,
      "outputs": [
        {
          "output_type": "execute_result",
          "data": {
            "text/plain": [
              "['_abc_cache',\n",
              " '_abc_negative_cache',\n",
              " '_abc_negative_cache_version',\n",
              " '_abc_registry',\n",
              " '_check_algorithm_metric',\n",
              " '_estimator_type',\n",
              " '_fit',\n",
              " '_get_param_names',\n",
              " '_get_tags',\n",
              " '_kneighbors_reduce_func',\n",
              " '_more_tags',\n",
              " '_pairwise',\n",
              " 'algorithm',\n",
              " 'fit',\n",
              " 'get_params',\n",
              " 'kneighbors',\n",
              " 'kneighbors_graph',\n",
              " 'leaf_size',\n",
              " 'metric',\n",
              " 'metric_params',\n",
              " 'n_jobs',\n",
              " 'n_neighbors',\n",
              " 'p',\n",
              " 'predict',\n",
              " 'predict_proba',\n",
              " 'radius',\n",
              " 'score',\n",
              " 'set_params',\n",
              " 'weights']"
            ]
          },
          "metadata": {
            "tags": []
          },
          "execution_count": 17
        }
      ]
    },
    {
      "cell_type": "markdown",
      "metadata": {
        "id": "UE6KSICfZTJx"
      },
      "source": [
        "**Step 3:** Fit the model with data (aka \"model training\")\n",
        "\n",
        "- Model is learning the relationship between X and y\n",
        "- Occurs in-place"
      ]
    },
    {
      "cell_type": "code",
      "metadata": {
        "id": "n4mgnHgEZTJy",
        "outputId": "0c379888-1aef-4fa5-a700-798ac36abfeb",
        "colab": {
          "base_uri": "https://localhost:8080/"
        }
      },
      "source": [
        "knn.fit(X, y)"
      ],
      "execution_count": 18,
      "outputs": [
        {
          "output_type": "execute_result",
          "data": {
            "text/plain": [
              "KNeighborsClassifier(algorithm='auto', leaf_size=30, metric='minkowski',\n",
              "                     metric_params=None, n_jobs=None, n_neighbors=1, p=2,\n",
              "                     weights='uniform')"
            ]
          },
          "metadata": {
            "tags": []
          },
          "execution_count": 18
        }
      ]
    },
    {
      "cell_type": "code",
      "metadata": {
        "id": "mesl27E3bivS",
        "outputId": "f8644b3b-6380-4376-edf4-208db3439a51",
        "colab": {
          "base_uri": "https://localhost:8080/"
        }
      },
      "source": [
        "# cpt\n",
        "[nome for nome in dir(knn) if nome[-1]=='_' and nome [-2:]!='__']"
      ],
      "execution_count": 19,
      "outputs": [
        {
          "output_type": "execute_result",
          "data": {
            "text/plain": [
              "['classes_',\n",
              " 'effective_metric_',\n",
              " 'effective_metric_params_',\n",
              " 'n_samples_fit_',\n",
              " 'outputs_2d_']"
            ]
          },
          "metadata": {
            "tags": []
          },
          "execution_count": 19
        }
      ]
    },
    {
      "cell_type": "code",
      "metadata": {
        "id": "DYZLAuaT29UE",
        "outputId": "be5f0c15-6c09-4250-85f4-47861642d47e",
        "colab": {
          "base_uri": "https://localhost:8080/",
          "height": 69
        }
      },
      "source": [
        "knn.__repr__()"
      ],
      "execution_count": 21,
      "outputs": [
        {
          "output_type": "execute_result",
          "data": {
            "application/vnd.google.colaboratory.intrinsic+json": {
              "type": "string"
            },
            "text/plain": [
              "\"KNeighborsClassifier(algorithm='auto', leaf_size=30, metric='minkowski',\\n                     metric_params=None, n_jobs=None, n_neighbors=1, p=2,\\n                     weights='uniform')\""
            ]
          },
          "metadata": {
            "tags": []
          },
          "execution_count": 21
        }
      ]
    },
    {
      "cell_type": "code",
      "metadata": {
        "id": "XQwr801Q3sRf",
        "outputId": "df7edf9c-0ddd-4440-f0cd-a38db1e3bf0f",
        "colab": {
          "base_uri": "https://localhost:8080/"
        }
      },
      "source": [
        "#Ou poderia fazer o ajuste na mesma linha da instanciação\n",
        "knn_2 = KNeighborsClassifier(n_neighbors=2).fit(X, y)\n",
        "knn_2"
      ],
      "execution_count": 23,
      "outputs": [
        {
          "output_type": "execute_result",
          "data": {
            "text/plain": [
              "KNeighborsClassifier(algorithm='auto', leaf_size=30, metric='minkowski',\n",
              "                     metric_params=None, n_jobs=None, n_neighbors=2, p=2,\n",
              "                     weights='uniform')"
            ]
          },
          "metadata": {
            "tags": []
          },
          "execution_count": 23
        }
      ]
    },
    {
      "cell_type": "markdown",
      "metadata": {
        "id": "l1c6TLSlZTJ2"
      },
      "source": [
        "**Step 4:** Predict the response for a new observation\n",
        "\n",
        "- New observations are called \"out-of-sample\" data\n",
        "- Uses the information it learned during the model training process"
      ]
    },
    {
      "cell_type": "code",
      "metadata": {
        "id": "6kYBKMsmZTJ2",
        "outputId": "03d7ff4e-7702-48cb-9652-f198487a3d9a",
        "colab": {
          "base_uri": "https://localhost:8080/"
        }
      },
      "source": [
        "knn.predict([[3, 5, 4, 2]])"
      ],
      "execution_count": 24,
      "outputs": [
        {
          "output_type": "execute_result",
          "data": {
            "text/plain": [
              "array([2])"
            ]
          },
          "metadata": {
            "tags": []
          },
          "execution_count": 24
        }
      ]
    },
    {
      "cell_type": "code",
      "metadata": {
        "id": "lGHoEEVm5Qg7",
        "outputId": "3d50cd73-148f-497a-987d-dba705613c6a",
        "colab": {
          "base_uri": "https://localhost:8080/"
        }
      },
      "source": [
        "iris.target_names\n",
        "#A classe prevista foi a 2, ou seja, a virginica"
      ],
      "execution_count": 25,
      "outputs": [
        {
          "output_type": "execute_result",
          "data": {
            "text/plain": [
              "array(['setosa', 'versicolor', 'virginica'], dtype='<U10')"
            ]
          },
          "metadata": {
            "tags": []
          },
          "execution_count": 25
        }
      ]
    },
    {
      "cell_type": "markdown",
      "metadata": {
        "id": "me0DTWxWZTJ6"
      },
      "source": [
        "- Returns a NumPy array\n",
        "- Can predict for multiple observations at once"
      ]
    },
    {
      "cell_type": "code",
      "metadata": {
        "id": "vTkIpMjqZTJ7",
        "outputId": "82ac3cc6-37a0-4701-885c-4b6a8b8139f8",
        "colab": {
          "base_uri": "https://localhost:8080/"
        }
      },
      "source": [
        "X_new = [[3, 5, 4, 2], [5, 4, 3, 2]]\n",
        "knn.predict(X_new)"
      ],
      "execution_count": 27,
      "outputs": [
        {
          "output_type": "execute_result",
          "data": {
            "text/plain": [
              "array([2, 1])"
            ]
          },
          "metadata": {
            "tags": []
          },
          "execution_count": 27
        }
      ]
    },
    {
      "cell_type": "markdown",
      "metadata": {
        "id": "PS4CxCyKZTKA"
      },
      "source": [
        "## Using a different value for K"
      ]
    },
    {
      "cell_type": "code",
      "metadata": {
        "id": "SnI675ccZTKB",
        "outputId": "9084650e-bc61-419c-87df-64c668bda365",
        "colab": {
          "base_uri": "https://localhost:8080/"
        }
      },
      "source": [
        "# instantiate the model (using the value K=5)\n",
        "knn_3 = KNeighborsClassifier(n_neighbors=5)\n",
        "\n",
        "# fit the model with data\n",
        "knn_3.fit(X, y)\n",
        "\n",
        "# predict the response for new observations\n",
        "knn_3.predict(X_new)"
      ],
      "execution_count": 28,
      "outputs": [
        {
          "output_type": "execute_result",
          "data": {
            "text/plain": [
              "array([1, 1])"
            ]
          },
          "metadata": {
            "tags": []
          },
          "execution_count": 28
        }
      ]
    },
    {
      "cell_type": "markdown",
      "metadata": {
        "id": "NzDtgmFXZTKF"
      },
      "source": [
        "## Using a different classification model"
      ]
    },
    {
      "cell_type": "code",
      "metadata": {
        "id": "JO7epRl66uWA"
      },
      "source": [
        "from sklearn.linear_model import LogisticRegression"
      ],
      "execution_count": 29,
      "outputs": []
    },
    {
      "cell_type": "code",
      "metadata": {
        "id": "N-nqIxzUh-Mj"
      },
      "source": [
        "# cpt\n",
        "LogisticRegression?\n",
        "# Vi o vídeo até 1h32m40"
      ],
      "execution_count": 30,
      "outputs": []
    },
    {
      "cell_type": "code",
      "metadata": {
        "id": "qkxDRzuUZTKF",
        "outputId": "9ce53f67-a94c-4bdb-847f-e2a2db62a7d4",
        "colab": {
          "base_uri": "https://localhost:8080/",
          "height": 34
        }
      },
      "source": [
        "# import the class\n",
        "from sklearn.linear_model import LogisticRegression\n",
        "\n",
        "# instantiate the model (using the default parameters)\n",
        "logreg = LogisticRegression(max_iter=1000, solver = 'liblinear')\n",
        "\n",
        "# fit the model with data\n",
        "logreg.fit(X, y)\n",
        "\n",
        "# predict the response for new observations\n",
        "logreg.predict(X_new)"
      ],
      "execution_count": null,
      "outputs": [
        {
          "output_type": "execute_result",
          "data": {
            "text/plain": [
              "array([2, 0])"
            ]
          },
          "metadata": {
            "tags": []
          },
          "execution_count": 15
        }
      ]
    },
    {
      "cell_type": "code",
      "metadata": {
        "id": "FuH2qzGM_HXG",
        "outputId": "79224045-675e-45af-9c4c-7daaec241aa8",
        "colab": {
          "base_uri": "https://localhost:8080/",
          "height": 34
        }
      },
      "source": [
        "# import the class\n",
        "from sklearn.linear_model import LogisticRegression\n",
        "\n",
        "# instantiate the model (using the default parameters)\n",
        "logreg = LogisticRegression(max_iter=10000)\n",
        "\n",
        "# fit the model with data\n",
        "logreg.fit(X, y)\n",
        "\n",
        "# predict the response for new observations\n",
        "logreg.predict(X_new)"
      ],
      "execution_count": null,
      "outputs": [
        {
          "output_type": "execute_result",
          "data": {
            "text/plain": [
              "array([0, 0])"
            ]
          },
          "metadata": {
            "tags": []
          },
          "execution_count": 16
        }
      ]
    },
    {
      "cell_type": "markdown",
      "metadata": {
        "id": "WWtEiSj1ZTKJ"
      },
      "source": [
        "## Resources\n",
        "\n",
        "- [Nearest Neighbors](http://scikit-learn.org/stable/modules/neighbors.html) (user guide), [KNeighborsClassifier](http://scikit-learn.org/stable/modules/generated/sklearn.neighbors.KNeighborsClassifier.html) (class documentation)\n",
        "- [Logistic Regression](http://scikit-learn.org/stable/modules/linear_model.html#logistic-regression) (user guide), [LogisticRegression](http://scikit-learn.org/stable/modules/generated/sklearn.linear_model.LogisticRegression.html) (class documentation)\n",
        "- [Videos from An Introduction to Statistical Learning](http://www.dataschool.io/15-hours-of-expert-machine-learning-videos/)\n",
        "    - Classification Problems and K-Nearest Neighbors (Chapter 2)\n",
        "    - Introduction to Classification (Chapter 4)\n",
        "    - Logistic Regression and Maximum Likelihood (Chapter 4)"
      ]
    },
    {
      "cell_type": "markdown",
      "metadata": {
        "id": "v5hQ8CC1ZTKK"
      },
      "source": [
        "## Comments or Questions?\n",
        "\n",
        "- Email: <kevin@dataschool.io>\n",
        "- Website: http://dataschool.io\n",
        "- Twitter: [@justmarkham](https://twitter.com/justmarkham)"
      ]
    },
    {
      "cell_type": "code",
      "metadata": {
        "id": "AxDB27tUZTKK"
      },
      "source": [
        "# from IPython.core.display import HTML\n",
        "# def css_styling():\n",
        "#     styles = open(\"styles/custom.css\", \"r\").read()\n",
        "#     return HTML(styles)\n",
        "# css_styling()"
      ],
      "execution_count": null,
      "outputs": []
    }
  ]
}